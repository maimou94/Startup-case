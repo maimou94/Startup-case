{
 "cells": [
  {
   "cell_type": "markdown",
   "metadata": {},
   "source": [
    "**SCRAPPING**\n",
    "\n",
    "Dans cette première étape, nous allons effectuer du scrapping sur le site Monster.fr\n",
    "\n",
    "Celui-ci référence les emplois, le salaires, les zones sur une seule et même page.\n",
    "\n",
    "Il n'est pas nécéssaire de changer de page pour afficher plus d'offres, les emplois s'actualisent automatiquement en scrollant en bas de page.\n",
    "\n",
    "**Ce code a donc pour but de :**\n",
    "- Se rendre sur le site Monster.fr, section Data scientist\n",
    "- Scroller automatiquement en bas de page pendant X secondes (modifiable dans le code)\n",
    "- Collecter les données et les ranger dans un tableau via pandas (Nom des posts, zones, salaires, mois en cours, années en cours)\n",
    "- Créer un fichier Excel avec les données collectées\n",
    "\n",
    "Vous pouvez run all directement"
   ]
  },
  {
   "cell_type": "code",
   "execution_count": 53,
   "metadata": {},
   "outputs": [
    {
     "name": "stdout",
     "output_type": "stream",
     "text": [
      "Collecting selenium\n",
      "  Downloading selenium-4.16.0-py3-none-any.whl.metadata (6.9 kB)\n",
      "Requirement already satisfied: urllib3<3,>=1.26 in c:\\users\\yanna\\appdata\\local\\programs\\python\\python312\\lib\\site-packages (from urllib3[socks]<3,>=1.26->selenium) (2.0.7)\n",
      "Collecting trio~=0.17 (from selenium)\n",
      "  Downloading trio-0.23.2-py3-none-any.whl.metadata (4.9 kB)\n",
      "Collecting trio-websocket~=0.9 (from selenium)\n",
      "  Downloading trio_websocket-0.11.1-py3-none-any.whl.metadata (4.7 kB)\n",
      "Requirement already satisfied: certifi>=2021.10.8 in c:\\users\\yanna\\appdata\\local\\programs\\python\\python312\\lib\\site-packages (from selenium) (2023.7.22)\n",
      "Requirement already satisfied: attrs>=20.1.0 in c:\\users\\yanna\\appdata\\local\\programs\\python\\python312\\lib\\site-packages (from trio~=0.17->selenium) (23.1.0)\n",
      "Collecting sortedcontainers (from trio~=0.17->selenium)\n",
      "  Downloading sortedcontainers-2.4.0-py2.py3-none-any.whl (29 kB)\n",
      "Requirement already satisfied: idna in c:\\users\\yanna\\appdata\\local\\programs\\python\\python312\\lib\\site-packages (from trio~=0.17->selenium) (3.4)\n",
      "Collecting outcome (from trio~=0.17->selenium)\n",
      "  Downloading outcome-1.3.0.post0-py2.py3-none-any.whl.metadata (2.6 kB)\n",
      "Collecting sniffio>=1.3.0 (from trio~=0.17->selenium)\n",
      "  Downloading sniffio-1.3.0-py3-none-any.whl (10 kB)\n",
      "Collecting cffi>=1.14 (from trio~=0.17->selenium)\n",
      "  Downloading cffi-1.16.0-cp312-cp312-win_amd64.whl.metadata (1.5 kB)\n",
      "Collecting wsproto>=0.14 (from trio-websocket~=0.9->selenium)\n",
      "  Downloading wsproto-1.2.0-py3-none-any.whl (24 kB)\n",
      "Collecting pysocks!=1.5.7,<2.0,>=1.5.6 (from urllib3[socks]<3,>=1.26->selenium)\n",
      "  Downloading PySocks-1.7.1-py3-none-any.whl (16 kB)\n",
      "Collecting pycparser (from cffi>=1.14->trio~=0.17->selenium)\n",
      "  Downloading pycparser-2.21-py2.py3-none-any.whl (118 kB)\n",
      "     ---------------------------------------- 0.0/118.7 kB ? eta -:--:--\n",
      "     -------------------------------------- 118.7/118.7 kB 6.8 MB/s eta 0:00:00\n",
      "Collecting h11<1,>=0.9.0 (from wsproto>=0.14->trio-websocket~=0.9->selenium)\n",
      "  Downloading h11-0.14.0-py3-none-any.whl (58 kB)\n",
      "     ---------------------------------------- 0.0/58.3 kB ? eta -:--:--\n",
      "     ---------------------------------------- 58.3/58.3 kB 3.0 MB/s eta 0:00:00\n",
      "Downloading selenium-4.16.0-py3-none-any.whl (10.0 MB)\n",
      "   ---------------------------------------- 0.0/10.0 MB ? eta -:--:--\n",
      "   --- ------------------------------------ 0.9/10.0 MB 18.7 MB/s eta 0:00:01\n",
      "   ------- -------------------------------- 1.8/10.0 MB 23.4 MB/s eta 0:00:01\n",
      "   -------------- ------------------------- 3.6/10.0 MB 28.5 MB/s eta 0:00:01\n",
      "   -------------------- ------------------- 5.0/10.0 MB 29.2 MB/s eta 0:00:01\n",
      "   -------------------------- ------------- 6.6/10.0 MB 29.9 MB/s eta 0:00:01\n",
      "   -------------------------------- ------- 8.1/10.0 MB 30.5 MB/s eta 0:00:01\n",
      "   ---------------------------------------  9.9/10.0 MB 31.5 MB/s eta 0:00:01\n",
      "   ---------------------------------------  10.0/10.0 MB 31.8 MB/s eta 0:00:01\n",
      "   ---------------------------------------- 10.0/10.0 MB 27.7 MB/s eta 0:00:00\n",
      "Downloading trio-0.23.2-py3-none-any.whl (461 kB)\n",
      "   ---------------------------------------- 0.0/461.6 kB ? eta -:--:--\n",
      "   --------------------------------------- 461.6/461.6 kB 14.1 MB/s eta 0:00:00\n",
      "Downloading trio_websocket-0.11.1-py3-none-any.whl (17 kB)\n",
      "Downloading cffi-1.16.0-cp312-cp312-win_amd64.whl (181 kB)\n",
      "   ---------------------------------------- 0.0/182.0 kB ? eta -:--:--\n",
      "   --------------------------------------- 182.0/182.0 kB 10.7 MB/s eta 0:00:00\n",
      "Downloading outcome-1.3.0.post0-py2.py3-none-any.whl (10 kB)\n",
      "Installing collected packages: sortedcontainers, sniffio, pysocks, pycparser, outcome, h11, wsproto, cffi, trio, trio-websocket, selenium\n",
      "Successfully installed cffi-1.16.0 h11-0.14.0 outcome-1.3.0.post0 pycparser-2.21 pysocks-1.7.1 selenium-4.16.0 sniffio-1.3.0 sortedcontainers-2.4.0 trio-0.23.2 trio-websocket-0.11.1 wsproto-1.2.0\n",
      "Note: you may need to restart the kernel to use updated packages.\n"
     ]
    },
    {
     "name": "stderr",
     "output_type": "stream",
     "text": [
      "\n",
      "[notice] A new release of pip is available: 23.3.1 -> 23.3.2\n",
      "[notice] To update, run: python.exe -m pip install --upgrade pip\n"
     ]
    }
   ],
   "source": [
    "%pip install selenium"
   ]
  },
  {
   "cell_type": "code",
   "execution_count": 67,
   "metadata": {},
   "outputs": [
    {
     "name": "stdout",
     "output_type": "stream",
     "text": [
      "Collecting webdriver-manager\n",
      "  Downloading webdriver_manager-4.0.1-py2.py3-none-any.whl.metadata (12 kB)\n",
      "Requirement already satisfied: requests in c:\\users\\yanna\\appdata\\local\\programs\\python\\python312\\lib\\site-packages (from webdriver-manager) (2.31.0)\n",
      "Collecting python-dotenv (from webdriver-manager)\n",
      "  Downloading python_dotenv-1.0.0-py3-none-any.whl (19 kB)\n",
      "Requirement already satisfied: packaging in c:\\users\\yanna\\appdata\\roaming\\python\\python312\\site-packages (from webdriver-manager) (23.2)\n",
      "Requirement already satisfied: charset-normalizer<4,>=2 in c:\\users\\yanna\\appdata\\local\\programs\\python\\python312\\lib\\site-packages (from requests->webdriver-manager) (3.3.2)\n",
      "Requirement already satisfied: idna<4,>=2.5 in c:\\users\\yanna\\appdata\\local\\programs\\python\\python312\\lib\\site-packages (from requests->webdriver-manager) (3.4)\n",
      "Requirement already satisfied: urllib3<3,>=1.21.1 in c:\\users\\yanna\\appdata\\local\\programs\\python\\python312\\lib\\site-packages (from requests->webdriver-manager) (2.0.7)\n",
      "Requirement already satisfied: certifi>=2017.4.17 in c:\\users\\yanna\\appdata\\local\\programs\\python\\python312\\lib\\site-packages (from requests->webdriver-manager) (2023.7.22)\n",
      "Downloading webdriver_manager-4.0.1-py2.py3-none-any.whl (27 kB)\n",
      "Installing collected packages: python-dotenv, webdriver-manager\n",
      "Successfully installed python-dotenv-1.0.0 webdriver-manager-4.0.1\n",
      "Note: you may need to restart the kernel to use updated packages.\n"
     ]
    },
    {
     "name": "stderr",
     "output_type": "stream",
     "text": [
      "  WARNING: The script dotenv.exe is installed in 'c:\\Users\\Yanna\\AppData\\Local\\Programs\\Python\\Python312\\Scripts' which is not on PATH.\n",
      "  Consider adding this directory to PATH or, if you prefer to suppress this warning, use --no-warn-script-location.\n",
      "\n",
      "[notice] A new release of pip is available: 23.3.1 -> 23.3.2\n",
      "[notice] To update, run: python.exe -m pip install --upgrade pip\n"
     ]
    }
   ],
   "source": [
    "%pip install webdriver-manager"
   ]
  },
  {
   "cell_type": "code",
   "execution_count": 72,
   "metadata": {},
   "outputs": [
    {
     "name": "stdout",
     "output_type": "stream",
     "text": [
      "Requirement already satisfied: pandas in c:\\users\\yanna\\appdata\\local\\programs\\python\\python312\\lib\\site-packages (2.1.2)\n",
      "Requirement already satisfied: openpyxl in c:\\users\\yanna\\appdata\\local\\programs\\python\\python312\\lib\\site-packages (3.1.2)\n",
      "Requirement already satisfied: numpy<2,>=1.26.0 in c:\\users\\yanna\\appdata\\local\\programs\\python\\python312\\lib\\site-packages (from pandas) (1.26.1)\n",
      "Requirement already satisfied: python-dateutil>=2.8.2 in c:\\users\\yanna\\appdata\\roaming\\python\\python312\\site-packages (from pandas) (2.8.2)\n",
      "Requirement already satisfied: pytz>=2020.1 in c:\\users\\yanna\\appdata\\local\\programs\\python\\python312\\lib\\site-packages (from pandas) (2023.3.post1)\n",
      "Requirement already satisfied: tzdata>=2022.1 in c:\\users\\yanna\\appdata\\local\\programs\\python\\python312\\lib\\site-packages (from pandas) (2023.3)\n",
      "Requirement already satisfied: et-xmlfile in c:\\users\\yanna\\appdata\\local\\programs\\python\\python312\\lib\\site-packages (from openpyxl) (1.1.0)\n",
      "Requirement already satisfied: six>=1.5 in c:\\users\\yanna\\appdata\\roaming\\python\\python312\\site-packages (from python-dateutil>=2.8.2->pandas) (1.16.0)\n",
      "Note: you may need to restart the kernel to use updated packages.\n"
     ]
    },
    {
     "name": "stderr",
     "output_type": "stream",
     "text": [
      "\n",
      "[notice] A new release of pip is available: 23.3.1 -> 23.3.2\n",
      "[notice] To update, run: python.exe -m pip install --upgrade pip\n"
     ]
    }
   ],
   "source": [
    "%pip install pandas openpyxl"
   ]
  },
  {
   "cell_type": "code",
   "execution_count": 1,
   "metadata": {},
   "outputs": [],
   "source": [
    "from selenium import webdriver\n",
    "from selenium.webdriver.chrome.service import Service\n",
    "from selenium.webdriver.common.by import By\n",
    "from selenium.webdriver.common.keys import Keys\n",
    "from webdriver_manager.chrome import ChromeDriverManager\n",
    "import pandas as pd\n",
    "import time\n",
    "import re\n",
    "from datetime import datetime\n",
    "\n",
    "def extract_salary(salary_str):\n",
    "    numbers = re.findall(r'\\d+', salary_str)\n",
    "    return int(''.join(numbers)) if numbers else 0\n",
    "\n",
    "# Initialisation du pilote Selenium. La page étant sous JS, nous ne pouvons pas utiliser Beautifulsoup qui s'orriente sur du html uniquement \n",
    "driver = webdriver.Chrome(service=Service(ChromeDriverManager().install()))\n",
    "\n",
    "# Accès à la page de Monster.fr\n",
    "# Monster, n'est pas un site protégé et est donc scrappable\n",
    "url = \"https://www.monster.fr/emploi/recherche?q=data+scientist&where=france&page=3&so=m.h.s\"\n",
    "driver.get(url)\n",
    "\n",
    "# Scroll pendant 10 secondes jusqu'en bas de page pour charger plus d'offres afin de récupérer la data\n",
    "# Possibilité d'augmenter le temps de scroll avec range pour avoir plus de données\n",
    "for _ in range(60):\n",
    "    driver.find_element(By.TAG_NAME, 'body').send_keys(Keys.PAGE_DOWN)\n",
    "    time.sleep(1)\n",
    "\n",
    "# Attente supplémentaire pour le chargement du contenu au cas où\n",
    "time.sleep(5)\n",
    "\n",
    "# Collecte des données\n",
    "data = []\n",
    "today = datetime.today()\n",
    "\n",
    "# Ajout des date afin de faire de l'analyse et pour tirer la donnée\n",
    "# Mois actuel\n",
    "current_month = today.strftime('%m') \n",
    "\n",
    "# Année actuelle \n",
    "current_year = today.strftime('%Y')\n",
    "  \n",
    "job_listings = driver.find_elements(By.CSS_SELECTOR, 'article[data-testid=\"svx_jobCard\"]')\n",
    "for job in job_listings:\n",
    "    job_title_elements = job.find_elements(By.CSS_SELECTOR, 'a[data-testid=\"jobTitle\"]')\n",
    "    location_elements = job.find_elements(By.CSS_SELECTOR, 'span[data-testid=\"jobDetailLocation\"]')\n",
    "    salary_elements = job.find_elements(By.CSS_SELECTOR, 'span.sc-fKMpNL.dasswI.ds-tag-label')\n",
    "\n",
    "    job_title = job_title_elements[0].text if job_title_elements else 'N/A'\n",
    "    location = location_elements[0].text if location_elements else 'N/A'\n",
    "    salary = extract_salary(salary_elements[0].text) if salary_elements else 0\n",
    "\n",
    "    data.append([job_title, location, salary, current_month, current_year])\n",
    "\n",
    "# Fermeture du navigateur\n",
    "driver.quit()\n",
    "\n",
    "# Création d'un DataFrame avec pandas\n",
    "df = pd.DataFrame(data, columns=[\"Job Title\", \"Location\", \"Salary\", \"Month\", \"Year\"])\n",
    "\n",
    "# Suppression des lignes où le salaire est 0\n",
    "df = df[df['Salary'] > 0]\n",
    "\n",
    "# Enregistrement dans un fichier Excel\n",
    "df.to_excel(\"DataJobs.xlsx\", index=False)\n"
   ]
  }
 ],
 "metadata": {
  "kernelspec": {
   "display_name": "Python 3",
   "language": "python",
   "name": "python3"
  },
  "language_info": {
   "codemirror_mode": {
    "name": "ipython",
    "version": 3
   },
   "file_extension": ".py",
   "mimetype": "text/x-python",
   "name": "python",
   "nbconvert_exporter": "python",
   "pygments_lexer": "ipython3",
   "version": "3.12.0"
  }
 },
 "nbformat": 4,
 "nbformat_minor": 2
}
