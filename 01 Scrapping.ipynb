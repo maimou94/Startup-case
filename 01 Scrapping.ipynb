{
 "cells": [
  {
   "cell_type": "markdown",
   "metadata": {},
   "source": [
    "**SCRAPPING**\n",
    "\n",
    "Dans cette première étape, nous allons effectuer du scrapping sur le site hellowork\n",
    "\n",
    "Celui-ci référence les emplois, le salaires, les zones sur une seule et même page.\n",
    "\n",
    "Il n'est pas nécéssaire de changer de page pour afficher plus d'offres, les emplois s'actualisent automatiquement en scrollant en bas de page.\n",
    "\n",
    "**Ce code a donc pour but de :**\n",
    "- Se rendre sur le site hellowork.com, section Data scientist en France\n",
    "- Collecter les données et les ranger dans un tableau via pandas (Nom des posts, nom de l'entreprise, type de post, zones, salaires, mois en cours, années en cours)\n",
    "- Passer à la page suivante dès que le scrapping est fait\n",
    "- Créer un fichier Excel avec les données collectées\n",
    "\n",
    "Vous pouvez run all directement"
   ]
  },
  {
   "cell_type": "code",
   "execution_count": 1,
   "metadata": {},
   "outputs": [
    {
     "name": "stdout",
     "output_type": "stream",
     "text": [
      "Requirement already satisfied: pandas in c:\\users\\yanna\\appdata\\local\\programs\\python\\python312\\lib\\site-packages (2.1.2)\n",
      "Requirement already satisfied: numpy<2,>=1.26.0 in c:\\users\\yanna\\appdata\\local\\programs\\python\\python312\\lib\\site-packages (from pandas) (1.26.3)\n",
      "Requirement already satisfied: python-dateutil>=2.8.2 in c:\\users\\yanna\\appdata\\roaming\\python\\python312\\site-packages (from pandas) (2.8.2)\n",
      "Requirement already satisfied: pytz>=2020.1 in c:\\users\\yanna\\appdata\\local\\programs\\python\\python312\\lib\\site-packages (from pandas) (2023.3.post1)\n",
      "Requirement already satisfied: tzdata>=2022.1 in c:\\users\\yanna\\appdata\\local\\programs\\python\\python312\\lib\\site-packages (from pandas) (2023.3)\n",
      "Requirement already satisfied: six>=1.5 in c:\\users\\yanna\\appdata\\roaming\\python\\python312\\site-packages (from python-dateutil>=2.8.2->pandas) (1.16.0)\n",
      "Note: you may need to restart the kernel to use updated packages.\n"
     ]
    },
    {
     "name": "stderr",
     "output_type": "stream",
     "text": [
      "\n",
      "[notice] A new release of pip is available: 23.3.1 -> 23.3.2\n",
      "[notice] To update, run: python.exe -m pip install --upgrade pip\n"
     ]
    }
   ],
   "source": [
    "%pip install pandas"
   ]
  },
  {
   "cell_type": "code",
   "execution_count": 2,
   "metadata": {},
   "outputs": [
    {
     "name": "stdout",
     "output_type": "stream",
     "text": [
      "Requirement already satisfied: numpy in c:\\users\\yanna\\appdata\\local\\programs\\python\\python312\\lib\\site-packages (1.26.3)\n",
      "Note: you may need to restart the kernel to use updated packages.\n"
     ]
    },
    {
     "name": "stderr",
     "output_type": "stream",
     "text": [
      "\n",
      "[notice] A new release of pip is available: 23.3.1 -> 23.3.2\n",
      "[notice] To update, run: python.exe -m pip install --upgrade pip\n"
     ]
    }
   ],
   "source": [
    "%pip install numpy"
   ]
  },
  {
   "cell_type": "code",
   "execution_count": 3,
   "metadata": {},
   "outputs": [
    {
     "name": "stdout",
     "output_type": "stream",
     "text": [
      "Requirement already satisfied: selenium in c:\\users\\yanna\\appdata\\local\\programs\\python\\python312\\lib\\site-packages (4.16.0)\n",
      "Requirement already satisfied: urllib3<3,>=1.26 in c:\\users\\yanna\\appdata\\local\\programs\\python\\python312\\lib\\site-packages (from urllib3[socks]<3,>=1.26->selenium) (2.0.7)\n",
      "Requirement already satisfied: trio~=0.17 in c:\\users\\yanna\\appdata\\local\\programs\\python\\python312\\lib\\site-packages (from selenium) (0.23.2)\n",
      "Requirement already satisfied: trio-websocket~=0.9 in c:\\users\\yanna\\appdata\\local\\programs\\python\\python312\\lib\\site-packages (from selenium) (0.11.1)\n",
      "Requirement already satisfied: certifi>=2021.10.8 in c:\\users\\yanna\\appdata\\local\\programs\\python\\python312\\lib\\site-packages (from selenium) (2023.7.22)\n",
      "Requirement already satisfied: attrs>=20.1.0 in c:\\users\\yanna\\appdata\\local\\programs\\python\\python312\\lib\\site-packages (from trio~=0.17->selenium) (23.1.0)\n",
      "Requirement already satisfied: sortedcontainers in c:\\users\\yanna\\appdata\\local\\programs\\python\\python312\\lib\\site-packages (from trio~=0.17->selenium) (2.4.0)\n",
      "Requirement already satisfied: idna in c:\\users\\yanna\\appdata\\local\\programs\\python\\python312\\lib\\site-packages (from trio~=0.17->selenium) (3.4)\n",
      "Requirement already satisfied: outcome in c:\\users\\yanna\\appdata\\local\\programs\\python\\python312\\lib\\site-packages (from trio~=0.17->selenium) (1.3.0.post0)\n",
      "Requirement already satisfied: sniffio>=1.3.0 in c:\\users\\yanna\\appdata\\local\\programs\\python\\python312\\lib\\site-packages (from trio~=0.17->selenium) (1.3.0)\n",
      "Requirement already satisfied: cffi>=1.14 in c:\\users\\yanna\\appdata\\local\\programs\\python\\python312\\lib\\site-packages (from trio~=0.17->selenium) (1.16.0)\n",
      "Requirement already satisfied: wsproto>=0.14 in c:\\users\\yanna\\appdata\\local\\programs\\python\\python312\\lib\\site-packages (from trio-websocket~=0.9->selenium) (1.2.0)\n",
      "Requirement already satisfied: pysocks!=1.5.7,<2.0,>=1.5.6 in c:\\users\\yanna\\appdata\\local\\programs\\python\\python312\\lib\\site-packages (from urllib3[socks]<3,>=1.26->selenium) (1.7.1)\n",
      "Requirement already satisfied: pycparser in c:\\users\\yanna\\appdata\\local\\programs\\python\\python312\\lib\\site-packages (from cffi>=1.14->trio~=0.17->selenium) (2.21)\n",
      "Requirement already satisfied: h11<1,>=0.9.0 in c:\\users\\yanna\\appdata\\local\\programs\\python\\python312\\lib\\site-packages (from wsproto>=0.14->trio-websocket~=0.9->selenium) (0.14.0)\n",
      "Note: you may need to restart the kernel to use updated packages.\n"
     ]
    },
    {
     "name": "stderr",
     "output_type": "stream",
     "text": [
      "\n",
      "[notice] A new release of pip is available: 23.3.1 -> 23.3.2\n",
      "[notice] To update, run: python.exe -m pip install --upgrade pip\n"
     ]
    }
   ],
   "source": [
    "%pip install selenium"
   ]
  },
  {
   "cell_type": "code",
   "execution_count": 4,
   "metadata": {},
   "outputs": [
    {
     "name": "stdout",
     "output_type": "stream",
     "text": [
      "Requirement already satisfied: webdriver-manager in c:\\users\\yanna\\appdata\\local\\programs\\python\\python312\\lib\\site-packages (4.0.1)\n",
      "Requirement already satisfied: requests in c:\\users\\yanna\\appdata\\local\\programs\\python\\python312\\lib\\site-packages (from webdriver-manager) (2.31.0)\n",
      "Requirement already satisfied: python-dotenv in c:\\users\\yanna\\appdata\\local\\programs\\python\\python312\\lib\\site-packages (from webdriver-manager) (1.0.0)\n",
      "Requirement already satisfied: packaging in c:\\users\\yanna\\appdata\\roaming\\python\\python312\\site-packages (from webdriver-manager) (23.2)\n",
      "Requirement already satisfied: charset-normalizer<4,>=2 in c:\\users\\yanna\\appdata\\local\\programs\\python\\python312\\lib\\site-packages (from requests->webdriver-manager) (3.3.2)\n",
      "Requirement already satisfied: idna<4,>=2.5 in c:\\users\\yanna\\appdata\\local\\programs\\python\\python312\\lib\\site-packages (from requests->webdriver-manager) (3.4)\n",
      "Requirement already satisfied: urllib3<3,>=1.21.1 in c:\\users\\yanna\\appdata\\local\\programs\\python\\python312\\lib\\site-packages (from requests->webdriver-manager) (2.0.7)\n",
      "Requirement already satisfied: certifi>=2017.4.17 in c:\\users\\yanna\\appdata\\local\\programs\\python\\python312\\lib\\site-packages (from requests->webdriver-manager) (2023.7.22)\n",
      "Note: you may need to restart the kernel to use updated packages.\n"
     ]
    },
    {
     "name": "stderr",
     "output_type": "stream",
     "text": [
      "\n",
      "[notice] A new release of pip is available: 23.3.1 -> 23.3.2\n",
      "[notice] To update, run: python.exe -m pip install --upgrade pip\n"
     ]
    }
   ],
   "source": [
    "%pip install webdriver-manager"
   ]
  },
  {
   "cell_type": "code",
   "execution_count": 5,
   "metadata": {},
   "outputs": [
    {
     "name": "stdout",
     "output_type": "stream",
     "text": [
      "Requirement already satisfied: pandas in c:\\users\\yanna\\appdata\\local\\programs\\python\\python312\\lib\\site-packages (2.1.2)\n",
      "Requirement already satisfied: openpyxl in c:\\users\\yanna\\appdata\\local\\programs\\python\\python312\\lib\\site-packages (3.1.2)\n",
      "Requirement already satisfied: numpy<2,>=1.26.0 in c:\\users\\yanna\\appdata\\local\\programs\\python\\python312\\lib\\site-packages (from pandas) (1.26.3)\n",
      "Requirement already satisfied: python-dateutil>=2.8.2 in c:\\users\\yanna\\appdata\\roaming\\python\\python312\\site-packages (from pandas) (2.8.2)\n",
      "Requirement already satisfied: pytz>=2020.1 in c:\\users\\yanna\\appdata\\local\\programs\\python\\python312\\lib\\site-packages (from pandas) (2023.3.post1)\n",
      "Requirement already satisfied: tzdata>=2022.1 in c:\\users\\yanna\\appdata\\local\\programs\\python\\python312\\lib\\site-packages (from pandas) (2023.3)\n",
      "Requirement already satisfied: et-xmlfile in c:\\users\\yanna\\appdata\\local\\programs\\python\\python312\\lib\\site-packages (from openpyxl) (1.1.0)\n",
      "Requirement already satisfied: six>=1.5 in c:\\users\\yanna\\appdata\\roaming\\python\\python312\\site-packages (from python-dateutil>=2.8.2->pandas) (1.16.0)\n",
      "Note: you may need to restart the kernel to use updated packages.\n"
     ]
    },
    {
     "name": "stderr",
     "output_type": "stream",
     "text": [
      "\n",
      "[notice] A new release of pip is available: 23.3.1 -> 23.3.2\n",
      "[notice] To update, run: python.exe -m pip install --upgrade pip\n"
     ]
    }
   ],
   "source": [
    "%pip install pandas openpyxl"
   ]
  },
  {
   "cell_type": "code",
   "execution_count": 9,
   "metadata": {},
   "outputs": [
    {
     "name": "stdout",
     "output_type": "stream",
     "text": [
      "Titre: Data Scientist H/F, Entreprise: Bouygues Telecom, Lieu: Meudon - 92, Salairemax: 55000, salairemin : 45000\n",
      "Titre: Data Enginer H/F, Entreprise: HR Team, Lieu: Nice - 06, Salairemax: 48000, salairemin : 37000\n",
      "Titre: Business Developer - Full Remote - DevOps Infra et Cybersécurité H/F, Entreprise: UPTOO, Lieu: Marseille - 13, Salairemax: 70000, salairemin : 45000\n",
      "Titre: Développeur React.Js Confirmé Startup IA H/F, Entreprise: Seyos, Lieu: Nantes - 44, Salairemax: 55000, salairemin : 45000\n",
      "Titre: Data Engineer H/F, Entreprise: Crédit Agricole Champagne Bourgogne, Lieu: Dijon - 21, Salairemax: 55000, salairemin : 45000\n"
     ]
    }
   ],
   "source": [
    "from selenium import webdriver\n",
    "from selenium.webdriver.chrome.service import Service\n",
    "from selenium.webdriver.common.by import By\n",
    "from webdriver_manager.chrome import ChromeDriverManager\n",
    "import pandas as pd\n",
    "import time\n",
    "import re\n",
    "from datetime import datetime\n",
    "\n",
    "def extract_salary(salary_str):\n",
    "    numbers = re.findall(r'\\d+', salary_str)\n",
    "    return ''.join(numbers) if numbers else None\n",
    "\n",
    "def process_salary(salary_str):\n",
    "    if salary_str and '-' in salary_str:\n",
    "        salary_min, salary_max = salary_str.split('-')\n",
    "        return int(extract_salary(salary_min)), int(extract_salary(salary_max))\n",
    "    else:\n",
    "        return None, None\n",
    "\n",
    "# Initialisation du pilote Selenium\n",
    "options = webdriver.ChromeOptions()\n",
    "options.add_argument(\"--disable-notifications\")\n",
    "driver = webdriver.Chrome(service=Service(ChromeDriverManager().install()), options=options)\n",
    "\n",
    "current_page = 1\n",
    "maximum_pages = 6\n",
    "data = []\n",
    "\n",
    "# Collecte des données\n",
    "# ... [Le reste du code est inchangé] ...\n",
    "\n",
    "# Collecte des données\n",
    "while current_page <= maximum_pages:\n",
    "    url = f'https://www.hellowork.com/fr-fr/emploi/recherche.html?k=data+scientist&ray=all&d=all&msa=21000&p={current_page}'\n",
    "    driver.get(url)\n",
    "    time.sleep(3)\n",
    "\n",
    "    job_listings = driver.find_elements(By.CSS_SELECTOR, 'section[data-controller=\"teleport\"]')\n",
    "\n",
    "    for job in job_listings:\n",
    "        # Sélecteurs CSS pour chaque élément\n",
    "        job_title_elements = job.find_elements(By.CSS_SELECTOR, 'a[class=\"md:tw-text-xlOld tw-text-2xlOld tw-leading-[1.625rem]\"]')\n",
    "        contract_elements = job.find_elements(By.CSS_SELECTOR, 'span[data-cy=\"contract\"]')\n",
    "        company_elements = job.find_elements(By.CSS_SELECTOR, 'span.tw-mr-2')\n",
    "        location_elements = job.find_elements(By.CSS_SELECTOR, 'span.tw-text-ellipsis')\n",
    "        salary_elements = job.find_elements(By.CSS_SELECTOR, 'span.tw-text-jobsCandidacy.tw-typo-s')\n",
    "\n",
    "        # Extraction des données\n",
    "        job_title = job_title_elements[0].text if job_title_elements else 'N/A'\n",
    "        contract = contract_elements[0].text if contract_elements else 'N/A'\n",
    "        company = company_elements[0].text if company_elements else 'N/A'\n",
    "        location = location_elements[0].text if location_elements else 'N/A'\n",
    "        salary = salary_elements[0].text if salary_elements else None\n",
    "        salary_min, salary_max = process_salary(salary)\n",
    "        data.append([job_title, contract, company, location, salary_min, salary_max])\n",
    "        print(f\"Titre: {job_title}, Entreprise: {company}, Lieu: {location}, Salairemax: {salary_max}, salairemin : {salary_min}\")  \n",
    "\n",
    "    current_page += 1\n",
    "\n",
    "driver.quit()\n",
    "\n",
    "# Création du DataFrame avec pandas\n",
    "df = pd.DataFrame(data, columns=[\"Job Title\", \"Contrat\", \"Company\", \"Location\", \"Salary min\", \"Salary max\"])\n",
    "\n",
    "# Nettoyage et conversion de 'Salary min' et 'Salary max' en valeurs numériques\n",
    "df['Salary min'] = df['Salary min'].replace(r'[^\\d.]+', '', regex=True)\n",
    "df['Salary max'] = df['Salary max'].replace(r'[^\\d.]+', '', regex=True)\n",
    "df['Salary min'] = pd.to_numeric(df['Salary min'], errors='coerce')\n",
    "df['Salary max'] = pd.to_numeric(df['Salary max'], errors='coerce')\n",
    "\n",
    "# Calculez la moyenne des salaires min et max\n",
    "df['Salary'] = df[['Salary min', 'Salary max']].mean(axis=1, skipna=True)\n",
    "\n",
    "# Suppression des lignes où \"Salary\" est vide (NaN)\n",
    "df = df.dropna(subset=['Salary'])\n",
    "\n",
    "# Enregistrement dans un fichier Excel\n",
    "df.to_excel('JobsList.xlsx', index=False)\n",
    "\n",
    "\n"
   ]
  }
 ],
 "metadata": {
  "kernelspec": {
   "display_name": "Python 3",
   "language": "python",
   "name": "python3"
  },
  "language_info": {
   "codemirror_mode": {
    "name": "ipython",
    "version": 3
   },
   "file_extension": ".py",
   "mimetype": "text/x-python",
   "name": "python",
   "nbconvert_exporter": "python",
   "pygments_lexer": "ipython3",
   "version": "3.12.0"
  }
 },
 "nbformat": 4,
 "nbformat_minor": 2
}
