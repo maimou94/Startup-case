{
 "cells": [
  {
   "cell_type": "markdown",
   "metadata": {},
   "source": [
    "**SCRAPPING**\n",
    "\n",
    "Dans cette première étape, nous allons effectuer du scrapping sur le site hellowork\n",
    "\n",
    "Celui-ci référence les emplois, le salaires, les zones sur une seule et même page.\n",
    "\n",
    "Il n'est pas nécéssaire de changer de page pour afficher plus d'offres, la pagination se fait automatiquement. Le maximum de page est géré par la variable maximum_pages.\n",
    "\n",
    "**Ce code a donc pour but de :**\n",
    "- Se rendre sur le site hellowork.com, section Data scientist en France\n",
    "- Collecter les données et les ranger dans un tableau via pandas (Nom des posts, nom de l'entreprise, type de post, zones, salaires, mois en cours, années en cours)\n",
    "- Passer à la page suivante dès que le scrapping est fait\n",
    "- Créer un fichier Excel avec les données collectées\n",
    "\n",
    "Vous pouvez run all directement"
   ]
  },
  {
   "cell_type": "code",
   "execution_count": 1,
   "metadata": {},
   "outputs": [
    {
     "name": "stdout",
     "output_type": "stream",
     "text": [
      "Requirement already satisfied: pandas in c:\\users\\yanna\\appdata\\local\\programs\\python\\python312\\lib\\site-packages (2.1.2)\n",
      "Requirement already satisfied: numpy<2,>=1.26.0 in c:\\users\\yanna\\appdata\\local\\programs\\python\\python312\\lib\\site-packages (from pandas) (1.26.3)\n",
      "Requirement already satisfied: python-dateutil>=2.8.2 in c:\\users\\yanna\\appdata\\roaming\\python\\python312\\site-packages (from pandas) (2.8.2)\n",
      "Requirement already satisfied: pytz>=2020.1 in c:\\users\\yanna\\appdata\\local\\programs\\python\\python312\\lib\\site-packages (from pandas) (2023.3.post1)\n",
      "Requirement already satisfied: tzdata>=2022.1 in c:\\users\\yanna\\appdata\\local\\programs\\python\\python312\\lib\\site-packages (from pandas) (2023.3)\n",
      "Requirement already satisfied: six>=1.5 in c:\\users\\yanna\\appdata\\roaming\\python\\python312\\site-packages (from python-dateutil>=2.8.2->pandas) (1.16.0)\n",
      "Note: you may need to restart the kernel to use updated packages.\n"
     ]
    },
    {
     "name": "stderr",
     "output_type": "stream",
     "text": [
      "\n",
      "[notice] A new release of pip is available: 23.3.1 -> 23.3.2\n",
      "[notice] To update, run: python.exe -m pip install --upgrade pip\n"
     ]
    }
   ],
   "source": [
    "%pip install pandas"
   ]
  },
  {
   "cell_type": "code",
   "execution_count": 2,
   "metadata": {},
   "outputs": [
    {
     "name": "stdout",
     "output_type": "stream",
     "text": [
      "Requirement already satisfied: numpy in c:\\users\\yanna\\appdata\\local\\programs\\python\\python312\\lib\\site-packages (1.26.3)\n",
      "Note: you may need to restart the kernel to use updated packages.\n"
     ]
    },
    {
     "name": "stderr",
     "output_type": "stream",
     "text": [
      "\n",
      "[notice] A new release of pip is available: 23.3.1 -> 23.3.2\n",
      "[notice] To update, run: python.exe -m pip install --upgrade pip\n"
     ]
    }
   ],
   "source": [
    "%pip install numpy"
   ]
  },
  {
   "cell_type": "code",
   "execution_count": 3,
   "metadata": {},
   "outputs": [
    {
     "name": "stdout",
     "output_type": "stream",
     "text": [
      "Requirement already satisfied: selenium in c:\\users\\yanna\\appdata\\local\\programs\\python\\python312\\lib\\site-packages (4.16.0)\n",
      "Requirement already satisfied: urllib3<3,>=1.26 in c:\\users\\yanna\\appdata\\local\\programs\\python\\python312\\lib\\site-packages (from urllib3[socks]<3,>=1.26->selenium) (2.0.7)\n",
      "Requirement already satisfied: trio~=0.17 in c:\\users\\yanna\\appdata\\local\\programs\\python\\python312\\lib\\site-packages (from selenium) (0.23.2)\n",
      "Requirement already satisfied: trio-websocket~=0.9 in c:\\users\\yanna\\appdata\\local\\programs\\python\\python312\\lib\\site-packages (from selenium) (0.11.1)\n",
      "Requirement already satisfied: certifi>=2021.10.8 in c:\\users\\yanna\\appdata\\local\\programs\\python\\python312\\lib\\site-packages (from selenium) (2023.7.22)\n",
      "Requirement already satisfied: attrs>=20.1.0 in c:\\users\\yanna\\appdata\\local\\programs\\python\\python312\\lib\\site-packages (from trio~=0.17->selenium) (23.1.0)\n",
      "Requirement already satisfied: sortedcontainers in c:\\users\\yanna\\appdata\\local\\programs\\python\\python312\\lib\\site-packages (from trio~=0.17->selenium) (2.4.0)\n",
      "Requirement already satisfied: idna in c:\\users\\yanna\\appdata\\local\\programs\\python\\python312\\lib\\site-packages (from trio~=0.17->selenium) (3.4)\n",
      "Requirement already satisfied: outcome in c:\\users\\yanna\\appdata\\local\\programs\\python\\python312\\lib\\site-packages (from trio~=0.17->selenium) (1.3.0.post0)\n",
      "Requirement already satisfied: sniffio>=1.3.0 in c:\\users\\yanna\\appdata\\local\\programs\\python\\python312\\lib\\site-packages (from trio~=0.17->selenium) (1.3.0)\n",
      "Requirement already satisfied: cffi>=1.14 in c:\\users\\yanna\\appdata\\local\\programs\\python\\python312\\lib\\site-packages (from trio~=0.17->selenium) (1.16.0)\n",
      "Requirement already satisfied: wsproto>=0.14 in c:\\users\\yanna\\appdata\\local\\programs\\python\\python312\\lib\\site-packages (from trio-websocket~=0.9->selenium) (1.2.0)\n",
      "Requirement already satisfied: pysocks!=1.5.7,<2.0,>=1.5.6 in c:\\users\\yanna\\appdata\\local\\programs\\python\\python312\\lib\\site-packages (from urllib3[socks]<3,>=1.26->selenium) (1.7.1)\n",
      "Requirement already satisfied: pycparser in c:\\users\\yanna\\appdata\\local\\programs\\python\\python312\\lib\\site-packages (from cffi>=1.14->trio~=0.17->selenium) (2.21)\n",
      "Requirement already satisfied: h11<1,>=0.9.0 in c:\\users\\yanna\\appdata\\local\\programs\\python\\python312\\lib\\site-packages (from wsproto>=0.14->trio-websocket~=0.9->selenium) (0.14.0)\n",
      "Note: you may need to restart the kernel to use updated packages.\n"
     ]
    },
    {
     "name": "stderr",
     "output_type": "stream",
     "text": [
      "\n",
      "[notice] A new release of pip is available: 23.3.1 -> 23.3.2\n",
      "[notice] To update, run: python.exe -m pip install --upgrade pip\n"
     ]
    }
   ],
   "source": [
    "%pip install selenium"
   ]
  },
  {
   "cell_type": "code",
   "execution_count": 4,
   "metadata": {},
   "outputs": [
    {
     "name": "stdout",
     "output_type": "stream",
     "text": [
      "Requirement already satisfied: webdriver-manager in c:\\users\\yanna\\appdata\\local\\programs\\python\\python312\\lib\\site-packages (4.0.1)\n",
      "Requirement already satisfied: requests in c:\\users\\yanna\\appdata\\local\\programs\\python\\python312\\lib\\site-packages (from webdriver-manager) (2.31.0)\n",
      "Requirement already satisfied: python-dotenv in c:\\users\\yanna\\appdata\\local\\programs\\python\\python312\\lib\\site-packages (from webdriver-manager) (1.0.0)\n",
      "Requirement already satisfied: packaging in c:\\users\\yanna\\appdata\\roaming\\python\\python312\\site-packages (from webdriver-manager) (23.2)\n",
      "Requirement already satisfied: charset-normalizer<4,>=2 in c:\\users\\yanna\\appdata\\local\\programs\\python\\python312\\lib\\site-packages (from requests->webdriver-manager) (3.3.2)\n",
      "Requirement already satisfied: idna<4,>=2.5 in c:\\users\\yanna\\appdata\\local\\programs\\python\\python312\\lib\\site-packages (from requests->webdriver-manager) (3.4)\n",
      "Requirement already satisfied: urllib3<3,>=1.21.1 in c:\\users\\yanna\\appdata\\local\\programs\\python\\python312\\lib\\site-packages (from requests->webdriver-manager) (2.0.7)\n",
      "Requirement already satisfied: certifi>=2017.4.17 in c:\\users\\yanna\\appdata\\local\\programs\\python\\python312\\lib\\site-packages (from requests->webdriver-manager) (2023.7.22)\n",
      "Note: you may need to restart the kernel to use updated packages.\n"
     ]
    },
    {
     "name": "stderr",
     "output_type": "stream",
     "text": [
      "\n",
      "[notice] A new release of pip is available: 23.3.1 -> 23.3.2\n",
      "[notice] To update, run: python.exe -m pip install --upgrade pip\n"
     ]
    }
   ],
   "source": [
    "%pip install webdriver-manager"
   ]
  },
  {
   "cell_type": "code",
   "execution_count": 5,
   "metadata": {},
   "outputs": [
    {
     "name": "stdout",
     "output_type": "stream",
     "text": [
      "Requirement already satisfied: pandas in c:\\users\\yanna\\appdata\\local\\programs\\python\\python312\\lib\\site-packages (2.1.2)\n",
      "Requirement already satisfied: openpyxl in c:\\users\\yanna\\appdata\\local\\programs\\python\\python312\\lib\\site-packages (3.1.2)\n",
      "Requirement already satisfied: numpy<2,>=1.26.0 in c:\\users\\yanna\\appdata\\local\\programs\\python\\python312\\lib\\site-packages (from pandas) (1.26.3)\n",
      "Requirement already satisfied: python-dateutil>=2.8.2 in c:\\users\\yanna\\appdata\\roaming\\python\\python312\\site-packages (from pandas) (2.8.2)\n",
      "Requirement already satisfied: pytz>=2020.1 in c:\\users\\yanna\\appdata\\local\\programs\\python\\python312\\lib\\site-packages (from pandas) (2023.3.post1)\n",
      "Requirement already satisfied: tzdata>=2022.1 in c:\\users\\yanna\\appdata\\local\\programs\\python\\python312\\lib\\site-packages (from pandas) (2023.3)\n",
      "Requirement already satisfied: et-xmlfile in c:\\users\\yanna\\appdata\\local\\programs\\python\\python312\\lib\\site-packages (from openpyxl) (1.1.0)\n",
      "Requirement already satisfied: six>=1.5 in c:\\users\\yanna\\appdata\\roaming\\python\\python312\\site-packages (from python-dateutil>=2.8.2->pandas) (1.16.0)\n",
      "Note: you may need to restart the kernel to use updated packages.\n"
     ]
    },
    {
     "name": "stderr",
     "output_type": "stream",
     "text": [
      "\n",
      "[notice] A new release of pip is available: 23.3.1 -> 23.3.2\n",
      "[notice] To update, run: python.exe -m pip install --upgrade pip\n"
     ]
    }
   ],
   "source": [
    "%pip install pandas openpyxl"
   ]
  },
  {
   "cell_type": "code",
   "execution_count": 22,
   "metadata": {},
   "outputs": [
    {
     "name": "stdout",
     "output_type": "stream",
     "text": [
      "Titre: Data Enginer H/F, Entreprise: HR Team, Lieu: Nice - 06, Salairemax: 48000, salairemin : 37000\n",
      "Titre: Chef de Produit Data Abonnement H/F, Entreprise: NGPA, Lieu: Saint-Ouen-sur-Seine - 93, Salairemax: 35000, salairemin : 30000\n",
      "Titre: Responsable de Domaine Si Data Analytics H/F, Entreprise: Télétravail occasionnel, Lieu: Haguenau - 67, Salairemax: 80000, salairemin : 65000\n",
      "Titre: Responsable de Département Si Data H/F, Entreprise: MGEN, Lieu: Paris 15e - 75, Salairemax: 90000, salairemin : 80000\n",
      "Titre: Assistant Comptable Data Controler H/F, Entreprise: Télétravail partiel, Lieu: Lorient - 56, Salairemax: 30000, salairemin : 25000\n",
      "Titre: Data Analyst H/F, Entreprise: Okaidi, Lieu: Roubaix - 59, Salairemax: 50000, salairemin : 38000\n",
      "Titre: Consultant Data H/F, Entreprise: Seenovate, Lieu: Bordeaux - 33, Salairemax: 42000, salairemin : 40000\n",
      "Titre: Data Engineer H/F, Entreprise: Amiltone, Lieu: Lille - 59, Salairemax: 55000, salairemin : 35000\n",
      "Titre: Data Manager Clinique H/F, Entreprise: EXCELYA, Lieu: Île-de-France, Salairemax: 68000, salairemin : 40000\n",
      "Titre: Chef de Projet Data H/F, Entreprise: Consort Group, Lieu: Rennes - 35, Salairemax: 55000, salairemin : 40000\n",
      "Titre: Consultant Data Senior H/F, Entreprise: Seenovate, Lieu: Nantes - 44, Salairemax: 55000, salairemin : 50000\n",
      "Titre: Data Analyst Junior H/F, Entreprise: DIOT-SIACI, Lieu: Paris - 75, Salairemax: None, salairemin : None\n",
      "Titre: Directeur de Projet Data Full Remote H/F, Entreprise: Asterience, Lieu: France, Salairemax: 60000, salairemin : 45000\n",
      "Titre: Data Scientist H/F, Entreprise: Davidson Consulting, Lieu: Rennes - 35, Salairemax: 40000, salairemin : 31000\n",
      "Titre: Data Analyste H/F, Entreprise: Manpower, Lieu: Blagnac - 31, Salairemax: 3900, salairemin : 3200\n",
      "Titre: Application & Data Architect H/F, Entreprise: Asterience, Lieu: Marseille - 13, Salairemax: 65000, salairemin : 45000\n",
      "Titre: Data Analyst H/F, Entreprise: Guarani, Lieu: Clermont-Ferrand - 63, Salairemax: 55000, salairemin : 40000\n",
      "Titre: Finance et Impact Data Analyst H/F, Entreprise: Kinougarde, Lieu: Paris 15e - 75, Salairemax: 60000, salairemin : 40000\n",
      "Titre: Data Scientist Spécialisé en Ml - Dl Computer Vision - Ocr H/F, Entreprise: WheelOfWork, Lieu: Lille - 59, Salairemax: 700, salairemin : 600\n",
      "Titre: Stage Consultant Analytics - Marketing Digital H/F, Entreprise: Jobmania, Lieu: Paris - 75, Salairemax: None, salairemin : None\n",
      "Titre: Ingénieur d'Études Data Center H/F, Entreprise: Neptune RH, Lieu: Paris 13e - 75, Salairemax: 55000, salairemin : 45000\n",
      "Titre: Administrateur Digital Workplace Microsoft H/F, Entreprise: Expectra, Lieu: Nantes - 44, Salairemax: 42000, salairemin : 40000\n",
      "Titre: Responsable Data Industrielle H/F, Entreprise: Michael Page, Lieu: Pontoise - 95, Salairemax: 85000, salairemin : 75000\n",
      "Titre: Inspecteur Auditeur Data H/F, Entreprise: Crédit Agricole CIB, Lieu: Montrouge - 92, Salairemax: None, salairemin : None\n",
      "Titre: Alternant Data Scientist H/F, Entreprise: AGL Group, Lieu: Puteaux - 92, Salairemax: 174720, salairemin : 47174\n",
      "Titre: Developpeur Power Bi - Dax H/F, Entreprise: Connectt, Lieu: Buchelay - 78, Salairemax: 38000, salairemin : 33000\n",
      "Titre: Architecte Si H/F, Entreprise: Thélem assurances, Lieu: Chécy - 45, Salairemax: None, salairemin : None\n",
      "Titre: Développeur E-Commerce Prestashop H/F, Entreprise: Cristal'ID, Lieu: Villeneuve-d'Ascq - 59, Salairemax: 35000, salairemin : 25000\n",
      "Titre: Responsable d'Applications H/F, Entreprise: SELENE, Lieu: Pays de la Loire, Salairemax: 48000, salairemin : 30000\n",
      "Titre: Contrôleur de Gestion H/F, Entreprise: Randstad, Lieu: Fressenneville - 80, Salairemax: 33000, salairemin : 29000\n",
      "Titre: Ingénieur Développeur H/F, Entreprise: Expectra, Lieu: Saint-Denis - 93, Salairemax: None, salairemin : None\n",
      "Titre: Business Developer H/F, Entreprise: Randstad Search, Lieu: Scionzier - 74, Salairemax: None, salairemin : None\n",
      "Titre: Stage - Bac + 5 Business Analyst Digital H/F, Entreprise: Naval Group, Lieu: Brest - 29, Salairemax: None, salairemin : None\n",
      "Titre: Ingénieur Système Pi Osisoft - Projet Déploiement Système Monitoring H/F, Entreprise: Viveris., Lieu: Montpellier - 34, Salairemax: 50000, salairemin : 40000\n",
      "Titre: Ingénieur Financier en Stage H/F, Entreprise: AXA en France, Lieu: Nanterre - 92, Salairemax: 1796, salairemin : 800\n",
      "Titre: Développeur .Net H/F, Entreprise: Groupagora, Lieu: Lyon - 69, Salairemax: 50000, salairemin : 38000\n",
      "Titre: Ingénieur Réseaux Sd Wan H/F, Entreprise: Groupagora, Lieu: Lyon - 69, Salairemax: 50000, salairemin : 40000\n",
      "Titre: DevOps Junior H/F, Entreprise: AK Recrutement, Lieu: Lyon 2e - 69, Salairemax: 45000, salairemin : 35000\n",
      "Titre: Alternance - Assistant IT Project Manager H/F, Entreprise: AXA en France, Lieu: Puteaux - 92, Salairemax: 2100, salairemin : 819\n",
      "Titre: Alternant Expert Architecte Systèmes Réseaux et Sécurité H/F, Entreprise: Epitech Technology, Lieu: Île-de-France, Salairemax: 1589, salairemin : 683\n",
      "Titre: Ingénieur Méthodes Maintenance - Toulouse 31 H/F, Entreprise: Maser Engineering, Lieu: Toulouse - 31, Salairemax: 35000, salairemin : 30000\n",
      "Titre: Automaticien H/F, Entreprise: Groupagora, Lieu: Saint-Étienne - 42, Salairemax: 45000, salairemin : 38000\n",
      "Titre: Administrateur Système et Réseaux H/F, Entreprise: Groupagora, Lieu: Grenoble - 38, Salairemax: 40000, salairemin : 30000\n",
      "Titre: Assistant.e Développeur Front-End Stage H/F, Entreprise: Bassetti, Lieu: Grenoble - 38, Salairemax: None, salairemin : None\n",
      "Titre: Product Owner H/F, Entreprise: Fed IT, Lieu: Paris - 75, Salairemax: 50000, salairemin : 45000\n",
      "Titre: Ingénieur Commercial Tpe 94 - 93 H/F, Entreprise: CCLD, Lieu: Créteil - 94, Salairemax: 39999, salairemin : 28000\n",
      "Titre: Directeur des Systèmes d'Information H/F, Entreprise: Fed IT, Lieu: Poissy - 78, Salairemax: 70000, salairemin : 60000\n",
      "Titre: Ingénieur Support Coeur Mobile H/F, Entreprise: Bouygues Telecom, Lieu: Meudon - 92, Salairemax: 70000, salairemin : 60000\n",
      "Titre: Chef de Projets en Photovoltaïque H/F, Entreprise: Acass, Lieu: Toulouse - 31, Salairemax: 40000, salairemin : 30000\n",
      "Titre: Assistant Commercial H/F, Entreprise: Page Personnel, Lieu: Saint-Herblain - 44, Salairemax: 28000, salairemin : 26000\n",
      "Titre: Chef de Projet Informatique H/F, Entreprise: AFNOR Groupe - Association Française de Normalisation, Lieu: Saint-Denis - 93, Salairemax: 70000, salairemin : 50000\n",
      "Titre: Technicien Support IT Linux H/F, Entreprise: Adsearch, Lieu: Nantes - 44, Salairemax: 40000, salairemin : 33000\n",
      "Titre: Chef de Projet Fonctionnel en Informatique H/F, Entreprise: Jacem, Lieu: Quimper - 29, Salairemax: 32000, salairemin : 30000\n",
      "Titre: Administrateur Sauvegarde H/F, Entreprise: Econocom, Lieu: Bordeaux - 33, Salairemax: 48000, salairemin : 36000\n",
      "Titre: Testeur Automatisation Robotframework H/F, Entreprise: HR Team, Lieu: France, Salairemax: 60000, salairemin : 50000\n",
      "Titre: Administrateur Systèmes H/F, Entreprise: Groupagora, Lieu: Aix-en-Provence - 13, Salairemax: 37000, salairemin : 32000\n",
      "Titre: Chef de Projet Infrastructures H/F, Entreprise: Groupagora, Lieu: Lyon - 69, Salairemax: 50000, salairemin : 40000\n",
      "Titre: Ux Designer H/F, Entreprise: Auchan Retail France, Lieu: Villeneuve-d'Ascq - 59, Salairemax: 45000, salairemin : 33000\n",
      "Titre: Consultant CRM - Marketing Automation H/F, Entreprise: Aquantis Consulting, Lieu: Issy-les-Moulineaux - 92, Salairemax: 65000, salairemin : 60000\n",
      "Titre: Business Developer - Full Remote - DevOps Infra et Cybersécurité H/F, Entreprise: UPTOO, Lieu: Lille - 59, Salairemax: 70000, salairemin : 45000\n",
      "Titre: Ingénieur Conception Radio Hztd H/F, Entreprise: Bouygues Telecom, Lieu: Vélizy-Villacoublay - 78, Salairemax: 55000, salairemin : 45000\n",
      "Titre: Stagiaire Chargé d'Etudes H/F, Entreprise: Adequation, Lieu: Paris 2e - 75, Salairemax: 62371, salairemin : 62370\n",
      "Titre: Alternance - Bac +2 - BTS Gpme - Afitec H/F, Entreprise: Groupe IGF, Lieu: Paris - 75, Salairemax: 1604, salairemin : 721\n",
      "Titre: Assistant Base de Données Articles H/F, Entreprise: Charly | Recrutement & Intérim, Lieu: Marseille 2e - 13, Salairemax: 27000, salairemin : 24000\n",
      "Titre: Chef de Projet Transverse - Télécom - Téléphonie Fixe H/F, Entreprise: Bouygues Telecom, Lieu: Meudon - 92, Salairemax: 70000, salairemin : 60000\n",
      "Titre: Préparateur Manutentionnaire H/F, Entreprise: Mediapost, Lieu: Lesquin - 59, Salairemax: 21500, salairemin : 20500\n",
      "Titre: Stage Informaticien Systèmes et Réseaux - Sécurité des Bâtiments - Mise en Place d'Une Infrastructure Linux Haute Disponibilité H/F, Entreprise: EURO-INFORMATION PRODUCTION, Lieu: Tassin-la-Demi-Lune - 69, Salairemax: 1200, salairemin : 1000\n",
      "Titre: Ingénieur Méthodes H/F, Entreprise: Younicorn, Lieu: Grenoble - 38, Salairemax: 43000, salairemin : 33000\n",
      "Titre: Chef de Projet CRM H/F, Entreprise: LHH Recruitment Solutions, Lieu: Colombes - 92, Salairemax: 43000, salairemin : 41000\n",
      "Titre: Intégrateur d'Applications H/F, Entreprise: Expectra, Lieu: Rennes - 35, Salairemax: 35000, salairemin : 30000\n",
      "Titre: Chef de Projet Informatique Industriel H/F, Entreprise: LHH Recruitment Solutions, Lieu: Strasbourg - 67, Salairemax: 65000, salairemin : 45000\n",
      "Titre: Product Manager Espace Client H/F, Entreprise: Groupama Gan Vie, Lieu: Gironde-sur-Dropt - 33, Salairemax: 60000, salairemin : 45000\n",
      "Titre: Technicien de Maintenance Industrielle en Zone Aseptique H/F, Entreprise: Actua, Lieu: Fegersheim - 67, Salairemax: 38000, salairemin : 31000\n",
      "Titre: Développeur Java - Domaine de la Santé H/F, Entreprise: Silkhom, Lieu: Lyon 1er - 69, Salairemax: 50000, salairemin : 40000\n",
      "Titre: Alternance - Chargé de Projet Évènementiel Marketing et Communication H/F, Entreprise: Inetum, Lieu: La Chapelle-sur-Erdre - 44, Salairemax: 174720, salairemin : 47174\n",
      "Titre: Consultant.e Informatique Transformation Digitale - Bénéficiant d'Une Rqth H/F, Entreprise: RECRUTER DANS LA DIFFERENCE, Lieu: Paris - 75, Salairemax: 45000, salairemin : 35000\n",
      "Titre: Alternance Content Manager SEO Junior - Montpellier H/F, Entreprise: ISCOD, Lieu: Montpellier - 34, Salairemax: 174720, salairemin : 47174\n",
      "Titre: Predictive Maintenance Manager H/F, Entreprise: OEMServices, Lieu: Tremblay-en-France - 93, Salairemax: 70000, salairemin : 50000\n",
      "Titre: Développeur Java Sophia Antipolis H/F, Entreprise: HR Team, Lieu: Nice - 06, Salairemax: 48000, salairemin : 2051140\n",
      "Titre: Gestionnaire de Bases de Données H/F, Entreprise: Manpower, Lieu: Margès - 26, Salairemax: 2400, salairemin : 2200\n",
      "Titre: Assistant Bases de Données sur SAP H/F, Entreprise: Page Personnel, Lieu: Dammartin-en-Goële - 77, Salairemax: 27000, salairemin : 26000\n",
      "Titre: Apprenti Électricien H/F, Entreprise: SNEF, Lieu: Villeparisis - 77, Salairemax: 174720, salairemin : 47174\n",
      "Titre: Responsable - Chargé Études et Chiffrages Électricité Et - Ou CVC H/F, Entreprise: B2R Group, Lieu: Marseille - 13, Salairemax: 60000, salairemin : 45000\n",
      "Titre: Architecte - Ingénieur Cloud Gcp H/F, Entreprise: Externatic, Lieu: Nantes - 44, Salairemax: 72000, salairemin : 60000\n",
      "Titre: Gestionnaire Commercial et ADV + SAP H/F, Entreprise: Walters People, Lieu: Décines-Charpieu - 69, Salairemax: 30000, salairemin : 26000\n",
      "Titre: Assistant Achat H/F, Entreprise: Crit, Lieu: Haguenau - 67, Salairemax: 45000, salairemin : 30000\n",
      "Titre: Alternant Business Applications H/F, Entreprise: Tereos, Lieu: Moussy-le-Vieux - 77, Salairemax: 174720, salairemin : 47174\n",
      "Titre: Alternant Business Applications H/F, Entreprise: Tereos, Lieu: Moussy-le-Vieux - 77, Salairemax: 174720, salairemin : 47174\n",
      "Titre: Business Analyst Mécanisme de Marché H/F, Entreprise: Michael Page, Lieu: Courbevoie - 92, Salairemax: 60000, salairemin : 50000\n",
      "Titre: Administrateur Systèmes DevOps - Lyon H/F, Entreprise: Michael Page, Lieu: Lyon - 69, Salairemax: 52000, salairemin : 44000\n",
      "Titre: Technicien Informatique H/F, Entreprise: Proman, Lieu: Pont-de-Vaux - 01, Salairemax: None, salairemin : None\n",
      "Titre: Acheteur Aéronautique et Manager Qualité H/F, Entreprise: Adequat, Lieu: Toulouse - 31, Salairemax: None, salairemin : None\n",
      "Titre: Architecte Lowcode H/F, Entreprise: Marie Chevalier, Lieu: Versailles - 78, Salairemax: 70000, salairemin : 50000\n",
      "Titre: Apprenticeship - Business & Transformation Analyst H/F, Entreprise: AXA Assurances, Lieu: Puteaux - 92, Salairemax: 174720, salairemin : 47174\n",
      "Titre: Concepteur Développeur Java - Saturne - 75019 H/F, Entreprise: Lasecurecrute.fr, Lieu: Paris 1er - 75, Salairemax: 45000, salairemin : 38000\n",
      "Titre: Alternance - Assistant IT Project Manager H/F, Entreprise: AXA Assurances, Lieu: Puteaux - 92, Salairemax: 174720, salairemin : 47174\n"
     ]
    }
   ],
   "source": [
    "from selenium import webdriver\n",
    "from selenium.webdriver.chrome.service import Service\n",
    "from selenium.webdriver.common.by import By\n",
    "from webdriver_manager.chrome import ChromeDriverManager\n",
    "import pandas as pd\n",
    "import time\n",
    "import re\n",
    "from datetime import datetime\n",
    "\n",
    "def extract_salary(salary_str):\n",
    "    numbers = re.findall(r'\\d+', salary_str)\n",
    "    return ''.join(numbers) if numbers else None\n",
    "\n",
    "def process_salary(salary_str):\n",
    "    if salary_str and '-' in salary_str:\n",
    "        salary_min, salary_max = salary_str.split('-')\n",
    "        return int(extract_salary(salary_min)), int(extract_salary(salary_max))\n",
    "    else:\n",
    "        return None, None\n",
    "\n",
    "# Initialisation du pilote Selenium\n",
    "options = webdriver.ChromeOptions()\n",
    "options.add_argument(\"--disable-notifications\")\n",
    "driver = webdriver.Chrome(service=Service(ChromeDriverManager().install()), options=options)\n",
    "\n",
    "current_page = 1\n",
    "maximum_pages = 5\n",
    "data = []\n",
    "\n",
    "# Obtention du mois et de l'année actuels\n",
    "current_month = datetime.now().month\n",
    "current_year = datetime.now().year\n",
    "\n",
    "while current_page <= maximum_pages:\n",
    "    url = f'https://www.hellowork.com/fr-fr/emploi/recherche.html?k=data+&ray=all&msa=0&cod=all&d=all&p={current_page}&mode=pagination'\n",
    "    driver.get(url)\n",
    "    time.sleep(3)\n",
    "\n",
    "    job_listings = driver.find_elements(By.CSS_SELECTOR, 'section[data-controller=\"teleport\"]')\n",
    "\n",
    "    for job in job_listings:\n",
    "        # Extraction des données comme avant\n",
    "        # ...\n",
    "\n",
    "        # Ajout des données extraites et du mois et de l'année actuels à la liste data\n",
    "        data.append([job_title, contract, company, location, salary_min, salary_max, current_month, current_year])\n",
    "\n",
    "    current_page += 1\n",
    "\n",
    "driver.quit()\n",
    "\n",
    "# Création du DataFrame avec les colonnes supplémentaires pour le mois et l'année\n",
    "df = pd.DataFrame(data, columns=[\"Job Title\", \"Contrat\", \"Company\", \"Location\", \"Salary min\", \"Salary max\", \"Month\", \"Year\"])\n",
    "\n",
    "# Nettoyage et conversion des colonnes 'Salary min' et 'Salary max' en valeurs numériques\n",
    "# ...\n",
    "\n",
    "# Enregistrement dans un fichier Excel\n",
    "df.to_excel('JobsList.xlsx', index=False)\n"
   ]
  }
 ],
 "metadata": {
  "kernelspec": {
   "display_name": "Python 3",
   "language": "python",
   "name": "python3"
  },
  "language_info": {
   "codemirror_mode": {
    "name": "ipython",
    "version": 3
   },
   "file_extension": ".py",
   "mimetype": "text/x-python",
   "name": "python",
   "nbconvert_exporter": "python",
   "pygments_lexer": "ipython3",
   "version": "3.12.0"
  }
 },
 "nbformat": 4,
 "nbformat_minor": 2
}
